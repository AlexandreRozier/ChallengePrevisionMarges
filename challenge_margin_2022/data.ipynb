{
 "cells": [
  {
   "cell_type": "code",
   "execution_count": null,
   "metadata": {},
   "outputs": [],
   "source": [
    "import os, sys\n",
    "\n",
    "import numpy as np\n",
    "import pandas as pd\n",
    "import matplotlib.pyplot as plt, seaborn as sn\n",
    "%matplotlib inline\n",
    "sn.set(rc={'figure.figsize':(11.7,8.27)})\n",
    "\n",
    "import warnings\n",
    "\n",
    "warnings.filterwarnings(\"ignore\")"
   ]
  },
  {
   "cell_type": "code",
   "execution_count": null,
   "metadata": {},
   "outputs": [],
   "source": [
    "data_folder = \"/home/goubetcle/Documents/Pôle/Challenge 2022/data_challenge/data\"\n"
   ]
  },
  {
   "cell_type": "code",
   "execution_count": null,
   "metadata": {},
   "outputs": [],
   "source": [
    "df_list_station = pd.read_csv(os.path.join(data_folder,\"liste_stations.csv\"), sep=\";\", header=0)\n",
    "df_list_station.head()"
   ]
  },
  {
   "cell_type": "code",
   "execution_count": null,
   "metadata": {},
   "outputs": [],
   "source": [
    "df_prev_sans_obs2020 = pd.read_feather(os.path.join(data_folder, \"df_prev_sans_obs2020.feather\"))\n",
    "df_prev_sans_obs2020.head(20)"
   ]
  },
  {
   "cell_type": "code",
   "execution_count": null,
   "metadata": {},
   "outputs": [],
   "source": [
    "df_grille_zoneclimat_fin18 = pd.read_feather(os.path.join(data_folder, \"grille_zone_climatique_fin2018.feather\"))\n",
    "df_grille_zoneclimat_fin18.head()"
   ]
  },
  {
   "cell_type": "code",
   "execution_count": null,
   "metadata": {},
   "outputs": [],
   "source": [
    "df_meteo_zone_eol = pd.read_feather(os.path.join(data_folder, \"meteo_zone_echeance12_2016_2020_HRES_piEOL_smooth.feather\"))\n",
    "df_meteo_zone_eol.head()"
   ]
  },
  {
   "cell_type": "code",
   "execution_count": null,
   "metadata": {},
   "outputs": [],
   "source": [
    "df_meteo_zone_pv = pd.read_feather(os.path.join(data_folder, \"meteo_zone_echeance12_2016_2020_HRES_piPV_smooth.feather\"))\n",
    "df_meteo_zone_pv.head()"
   ]
  },
  {
   "cell_type": "code",
   "execution_count": null,
   "metadata": {},
   "outputs": [],
   "source": [
    "df_prodpv_fc_q90 = pd.read_feather(os.path.join(data_folder, \"productionPV_FC_cielclair_q90.feather\"))\n",
    "df_prodpv_fc_q90.head()"
   ]
  },
  {
   "cell_type": "code",
   "execution_count": null,
   "metadata": {},
   "outputs": [],
   "source": [
    "np.unique(df_prev_sans_obs2020.echeance.values)"
   ]
  },
  {
   "cell_type": "markdown",
   "metadata": {},
   "source": [
    "import pneumathis\n",
    "\n",
    "client = pneumathis.init()"
   ]
  },
  {
   "cell_type": "markdown",
   "metadata": {},
   "source": [
    "table_target = \"client.data.PUBLIC.SMETEO.PREVISIONS_NEBULOSITE_TEMPERATURE\"\n",
    "\n",
    "sql_query = \"SELECT * FROM PUBLIC.SMETEO.PREVISIONS_NEBULOSITE_TEMPERATURE where echeance >= 0 and echeance <=4 and an_utc >= 2016 and an_utc <= 2020\"\n",
    "df_temp = client.query(sql_query)\n",
    "\n",
    "df_temp.reset_index(drop=True).to_feather(os.path.join(data_folder, \"prev_meteo_neb.feather\"))"
   ]
  },
  {
   "cell_type": "code",
   "execution_count": null,
   "metadata": {},
   "outputs": [],
   "source": [
    "df_temp = pd.read_feather(os.path.join(data_folder, \"prev_meteo_neb.feather\"))\n",
    "\n",
    "df_temp.head()"
   ]
  },
  {
   "cell_type": "code",
   "execution_count": null,
   "metadata": {},
   "outputs": [],
   "source": [
    "np.unique(df_temp.echeance.values)"
   ]
  },
  {
   "cell_type": "code",
   "execution_count": null,
   "metadata": {},
   "outputs": [],
   "source": [
    "def make_zone_columns(df):\n",
    "    new_df = df.pivot_table(index=['timestamp_utc_str', \"echeance\"],columns='code_station')\n",
    "    new_df.columns = [col[-1].strip() for col in new_df.columns.values]\n",
    "    return new_df\n",
    "\n"
   ]
  },
  {
   "cell_type": "code",
   "execution_count": null,
   "metadata": {},
   "outputs": [],
   "source": [
    "df_stations = pd.read_csv(os.path.join(data_folder,\"WeatherStationsRTE.csv\"), header=0, sep=\";\")\n",
    "df_stations.head()"
   ]
  },
  {
   "cell_type": "code",
   "execution_count": null,
   "metadata": {},
   "outputs": [],
   "source": [
    "cols_tokeep = [\"code_station\", \"echeance\", \"prevision_neb\", \"prevision_temp\", \"timestamp_utc_str\"]\n",
    "\n",
    "list(make_zone_columns(df_temp[cols_tokeep].astype({\"prevision_temp\" : float})).index)\n"
   ]
  },
  {
   "cell_type": "code",
   "execution_count": null,
   "metadata": {},
   "outputs": [],
   "source": [
    "cols_tokeep = [\"code_station\", \"echeance\", \"prevision_neb\", \"prevision_temp\", \"timestamp_utc_str\"]\n",
    "\n",
    "df_meteo_fr = pd.DataFrame()\n",
    "\n",
    "time_vec, echeance_vec = zip(*list(make_zone_columns(df_temp[cols_tokeep].astype({\"prevision_temp\" : float})).index))\n",
    "df_meteo_fr[\"utc_datetime\"] = time_vec\n",
    "df_meteo_fr[\"echeance\"] = echeance_vec\n",
    "\n",
    "for col in [\"prevision_neb\", \"prevision_temp\"]:\n",
    "    cols_tokeep = [\"code_station\", \"timestamp_utc_str\", \"echeance\"] + [col]\n",
    "    newdf = make_zone_columns(df_temp[cols_tokeep].astype({col : float}))\n",
    "    weights = np.array([float(df_stations[[\"Poids\"]][df_stations.ID == int(c) - 7000].values) for c in newdf.columns])\n",
    "    df_meteo_fr[col] = np.sum(newdf.values * weights.reshape(1,-1),axis=1)\n",
    " \n",
    "df_meteo_fr.to_csv(os.path.join(data_folder,\"meteo_fr.csv\"), sep= \";\", index=False)\n",
    "df_meteo_fr.head()"
   ]
  },
  {
   "cell_type": "code",
   "execution_count": null,
   "metadata": {},
   "outputs": [],
   "source": []
  }
 ],
 "metadata": {
  "kernelspec": {
   "display_name": "xp_venv",
   "language": "python",
   "name": "xp_venv"
  },
  "language_info": {
   "codemirror_mode": {
    "name": "ipython",
    "version": 3
   },
   "file_extension": ".py",
   "mimetype": "text/x-python",
   "name": "python",
   "nbconvert_exporter": "python",
   "pygments_lexer": "ipython3",
   "version": "3.8.10"
  }
 },
 "nbformat": 4,
 "nbformat_minor": 2
}
