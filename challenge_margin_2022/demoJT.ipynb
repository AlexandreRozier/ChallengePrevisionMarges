{
 "cells": [
  {
   "cell_type": "code",
   "execution_count": null,
   "metadata": {},
   "outputs": [],
   "source": [
    "import os\n",
    "\n",
    "import numpy as np\n",
    "import pandas as pd\n",
    "\n",
    "\n",
    "import warnings\n",
    "\n",
    "warnings.filterwarnings(\"ignore\")"
   ]
  },
  {
   "cell_type": "code",
   "execution_count": null,
   "metadata": {},
   "outputs": [],
   "source": [
    "data_folder = \"/home/goubetcle/Documents/Pôle/Challenge 2022/data_challenge/data\"\n",
    "output_folder = \"/home/goubetcle/Documents/Pôle/Challenge 2022/data_challenge/outputs\"\n"
   ]
  },
  {
   "cell_type": "code",
   "execution_count": null,
   "metadata": {},
   "outputs": [],
   "source": [
    "df_prev = pd.read_feather(os.path.join(data_folder, \"df_prev_sans_obs2020.feather\"))\n",
    "df_prev = df_prev.loc[df_prev.echeance.isin([0.5,1,2,4])]\n",
    "df_prev[\"hh_mm_cible\"] = df_prev.date_cible.dt.hour + df_prev.date_cible.dt.minute / 60\n",
    "df_prev[\"prev_obs_gap\"] = df_prev.prev.values - df_prev.obs.values\n",
    "df_prev.head(10)"
   ]
  },
  {
   "cell_type": "code",
   "execution_count": null,
   "metadata": {},
   "outputs": [],
   "source": [
    "quantile_target = np.arange(0.005, 1, 0.005)\n",
    "df_quantile_bygroup = df_prev[['type', 'echeance', 'hh_mm_cible', 'prev_obs_gap']].loc[df_prev.date_cible.dt.year < 2020].groupby(\n",
    "    ['type', 'echeance', 'hh_mm_cible']).quantile(quantile_target).reset_index().rename(columns={\"level_3\":\"quantile_niveau\"})\n",
    "\n",
    "df_quantile_bygroup.head()"
   ]
  },
  {
   "cell_type": "code",
   "execution_count": null,
   "metadata": {},
   "outputs": [],
   "source": [
    "df_quantile_prev_4x199 = df_prev[['date_cible', 'date_lancement','type', 'echeance', 'hh_mm_cible', 'prev']].loc[df_prev.date_cible.dt.year == 2020]\n",
    "n_examples = df_quantile_prev_4x199.shape[0]\n",
    "df_quantile_prev_4x199 = pd.concat([df_quantile_prev_4x199] * len(quantile_target), ignore_index=True)\n",
    "df_quantile_prev_4x199[\"quantile_niveau\"] = np.repeat(quantile_target, n_examples)\n",
    "df_quantile_prev_4x199 = df_quantile_prev_4x199.merge(df_quantile_bygroup, on=['type', 'echeance', 'hh_mm_cible', 'quantile_niveau'],\n",
    "    how='left', sort='false')\n",
    "df_quantile_prev_4x199[\"prev_q\"] = df_quantile_prev_4x199.prev.values + df_quantile_prev_4x199.prev_obs_gap.values\n",
    "df_quantile_prev_4x199 = df_quantile_prev_4x199[['date_cible', 'date_lancement', 'type', 'prev_q', 'quantile_niveau']]"
   ]
  },
  {
   "cell_type": "code",
   "execution_count": null,
   "metadata": {},
   "outputs": [],
   "source": [
    "df_quantile_prev_4x199.tail(20)"
   ]
  },
  {
   "cell_type": "code",
   "execution_count": null,
   "metadata": {},
   "outputs": [],
   "source": [
    "df_quantile_prev_Q1Q99 = df_quantile_prev_4x199.loc[df_quantile_prev_4x199.type==\"consommation_residuelle\"].loc[\n",
    "    df_quantile_prev_4x199.quantile_niveau.isin([0.01, 0.99])].reset_index(drop=True)\n",
    "df_quantile_prev_Q1Q99.head()"
   ]
  },
  {
   "cell_type": "code",
   "execution_count": null,
   "metadata": {},
   "outputs": [],
   "source": [
    "df_quantile_prev_4x199.to_feather(os.path.join(output_folder, \"demo_4x199.feather\"), compression=\"zstd\")\n",
    "df_quantile_prev_Q1Q99.to_feather(os.path.join(output_folder, \"demo_Q1Q99.feather\"))"
   ]
  },
  {
   "cell_type": "code",
   "execution_count": null,
   "metadata": {},
   "outputs": [],
   "source": []
  }
 ],
 "metadata": {
  "kernelspec": {
   "display_name": "Python 3.8.10 64-bit",
   "language": "python",
   "name": "python3"
  },
  "language_info": {
   "codemirror_mode": {
    "name": "ipython",
    "version": 3
   },
   "file_extension": ".py",
   "mimetype": "text/x-python",
   "name": "python",
   "nbconvert_exporter": "python",
   "pygments_lexer": "ipython3",
   "version": "3.8.10"
  },
  "vscode": {
   "interpreter": {
    "hash": "916dbcbb3f70747c44a77c7bcd40155683ae19c65e1c03b4aa3499c5328201f1"
   }
  }
 },
 "nbformat": 4,
 "nbformat_minor": 2
}
