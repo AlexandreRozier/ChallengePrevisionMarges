{
 "cells": [
  {
   "cell_type": "code",
   "execution_count": null,
   "metadata": {},
   "outputs": [],
   "source": [
    "import os, sys\n",
    "import numpy as np\n",
    "import pandas as pd\n",
    "import matplotlib.pyplot as plt\n",
    "import seaborn as sn\n",
    "import warnings\n",
    "from cgi import test\n",
    "from pathlib import Path\n",
    "import time\n",
    "from unittest import result\n",
    "from pytorch_lightning import Trainer\n",
    "from ray import tune\n",
    "import torch\n",
    "from train import LABEL_NAME\n",
    "import datetime\n",
    "from functools import partial\n",
    "from vacances_scolaires_france import SchoolHolidayDates\n",
    "from train import DataModule, Regressor\n",
    "\n",
    "sn.set(rc={'figure.figsize':(11.7,8.27)})\n",
    "%matplotlib inline\n",
    "%load_ext autoreload\n",
    "%autoreload 2\n",
    "\n",
    "warnings.filterwarnings(\"ignore\")"
   ]
  },
  {
   "cell_type": "code",
   "execution_count": null,
   "metadata": {},
   "outputs": [],
   "source": [
    "df_list_station = pd.read_csv(os.path.join(data_folder,\"liste_stations.csv\"), sep=\";\", header=0)\n",
    "df_list_station.head()"
   ]
  },
  {
   "cell_type": "code",
   "execution_count": null,
   "metadata": {},
   "outputs": [],
   "source": [
    "df_prev_sans_obs2020 = pd.read_feather(os.path.join(data_folder, \"df_prev_sans_obs2020.feather\"))\n",
    "df_prev_sans_obs2020\n",
    "\n"
   ]
  },
  {
   "cell_type": "code",
   "execution_count": null,
   "metadata": {},
   "outputs": [],
   "source": [
    "df_grille_zoneclimat_fin18 = pd.read_feather(os.path.join(data_folder, \"grille_zone_climatique_fin2018.feather\"))\n",
    "df_grille_zoneclimat_fin18.head(10)"
   ]
  },
  {
   "cell_type": "code",
   "execution_count": null,
   "metadata": {},
   "outputs": [],
   "source": [
    "df_meteo_zone_eol = pd.read_feather(os.path.join(data_folder, \"meteo_zone_echeance12_2016_2020_HRES_piEOL_smooth.feather\"))\n",
    "df_meteo_zone_eol.groupby('date_lancement_meteo').count()"
   ]
  },
  {
   "cell_type": "code",
   "execution_count": null,
   "metadata": {},
   "outputs": [],
   "source": [
    "df_meteo_zone_eol = pd.read_feather(os.path.join(data_folder, \"meteo_zone_echeance12_2016_2020_HRES_piEOL_smooth.feather\"))\n",
    "df_meteo_zone_eol"
   ]
  },
  {
   "cell_type": "code",
   "execution_count": null,
   "metadata": {},
   "outputs": [],
   "source": [
    "df_meteo_zone_pv = pd.read_feather(os.path.join(data_folder, \"meteo_zone_echeance12_2016_2020_HRES_piPV_smooth.feather\"))\n",
    "df_meteo_zone_pv"
   ]
  },
  {
   "cell_type": "code",
   "execution_count": null,
   "metadata": {},
   "outputs": [],
   "source": [
    "df_prodpv_fc_q90 = pd.read_feather(os.path.join(data_folder, \"productionPV_FC_cielclair_q90.feather\"))\n",
    "df_prodpv_fc_q90.head()"
   ]
  },
  {
   "cell_type": "markdown",
   "metadata": {},
   "source": []
  },
  {
   "cell_type": "code",
   "execution_count": null,
   "metadata": {},
   "outputs": [],
   "source": [
    "# Proving that all input data have hourly resolution\n",
    "px.line(df_conso_res_meteo[df_conso_res_meteo.echeance==1.0].sort_values('date_cible'),x='date_cible',y=\"prev\")"
   ]
  },
  {
   "cell_type": "markdown",
   "metadata": {},
   "source": [
    "## Training"
   ]
  },
  {
   "cell_type": "code",
   "execution_count": null,
   "metadata": {},
   "outputs": [],
   "source": [
    "# Run train.py"
   ]
  },
  {
   "cell_type": "markdown",
   "metadata": {},
   "source": [
    "## Output analysis"
   ]
  },
  {
   "cell_type": "code",
   "execution_count": null,
   "metadata": {},
   "outputs": [],
   "source": [
    "pd.options.plotting.backend = \"plotly\"\n",
    "import plotly.express as px\n",
    "import plotly.graph_objects as go\n",
    "\n",
    "from submit import prepare_submission\n",
    "\n",
    "\n",
    "def plot_val_output(obs_type):\n",
    "        # Plot val preds. NB: there are holes because of the split between train and val.\n",
    "    exp_path = max(Path(f\"./ray/{obs_type}/\").glob('*experiment*'), key=os.path.getctime) # take latest\n",
    "    results = tune.ExperimentAnalysis(experiment_checkpoint_path=exp_path,default_metric=\"val/loss\",default_mode=\"min\")\n",
    "    print(f\"\"\"\n",
    "            Preparing submission for {obs_type}...\n",
    "            Using Experiment {exp_path}\n",
    "            \n",
    "            \"\"\")\n",
    "    print(results.best_config)\n",
    "\n",
    "    out = prepare_submission(obs_type, results, df_type='val')\n",
    "    df_conso_sub = out[(out.quantile_niveau.isin([0.25, 0.75]))& (out.echeance==1.0)]\n",
    "    df_conso_sub.sort_values(by='date_cible',inplace=True)\n",
    "\n",
    "    fig = px.line(df_conso_sub, x='date_cible',y='prev_q',color='quantile_niveau', line_dash_sequence=['dash'])\n",
    "    fig.add_trace(go.Scatter(x=df_conso_sub.date_cible,y=df_conso_sub.prev,name=\"prev\",line=dict(width=4)))\n",
    "    fig.add_trace(go.Scatter(x=df_conso_sub.date_cible,y=df_conso_sub.obs,name=\"obs\",line=dict(width=4)))\n",
    "    fig.update_traces(connectgaps=False) \n",
    "    return fig\n",
    "\n"
   ]
  },
  {
   "cell_type": "code",
   "execution_count": null,
   "metadata": {},
   "outputs": [],
   "source": [
    "plot_val_output('consommation_residuelle')\n"
   ]
  },
  {
   "cell_type": "code",
   "execution_count": null,
   "metadata": {},
   "outputs": [],
   "source": [
    "plot_val_output('consommation')"
   ]
  },
  {
   "cell_type": "code",
   "execution_count": null,
   "metadata": {},
   "outputs": [],
   "source": [
    "plot_val_output('eolien')"
   ]
  },
  {
   "cell_type": "code",
   "execution_count": null,
   "metadata": {},
   "outputs": [],
   "source": [
    "dm.df_val.info()"
   ]
  },
  {
   "cell_type": "code",
   "execution_count": null,
   "metadata": {},
   "outputs": [],
   "source": [
    "\n",
    "def analyze_fiability(out):\n",
    "    quantile_levels = np.arange(0.005,1.00,0.005)\n",
    "    out['percentage'] = pd.NA\n",
    "    # TODO: 1 select quantile\n",
    "    # 2 compute % of distribution above it\n",
    "    # 3 deduce loss\n",
    "    # LOSS \n",
    "    out['percentage'] = out.apply(lambda row: (row.prev_q >= out.obs).sum()/len(out), axis=1)\n",
    "    out['reliability'] = indicator(out['percentage'] - out['prev_q'])*10\n",
    "    \n",
    "    return out\n",
    "analyze_fiability(out.head(1000))"
   ]
  },
  {
   "cell_type": "code",
   "execution_count": null,
   "metadata": {},
   "outputs": [],
   "source": [
    "def show_features(obs_type):\n",
    "    df = pd.read_hdf(f'features/{obs_type}.hdf')\n",
    "    dm = DataModule(df, LABEL_NAME,10)\n",
    "    dm.prepare_data()\n",
    "    # Show feature columns\n",
    "    print(dm.df_train.drop(columns=dm.cols_to_drop).columns)\n",
    "show_features('photovoltaique')"
   ]
  },
  {
   "cell_type": "markdown",
   "metadata": {},
   "source": [
    "## IDEAs\n",
    "- coeff zone meteo ? altitude ? longitude ?\n",
    "- train only on useful horizons ?\n",
    "- add dvc \n",
    "- add given FC \n",
    "\n",
    "## TODO\n",
    "\n",
    "- add fiabilité\n",
    "- add meteo for conso\n",
    "\n",
    "\n"
   ]
  },
  {
   "cell_type": "markdown",
   "metadata": {},
   "source": []
  }
 ],
 "metadata": {
  "kernelspec": {
   "display_name": "Python 3.8.13 ('prev_margins')",
   "language": "python",
   "name": "python3"
  },
  "language_info": {
   "codemirror_mode": {
    "name": "ipython",
    "version": 3
   },
   "file_extension": ".py",
   "mimetype": "text/x-python",
   "name": "python",
   "nbconvert_exporter": "python",
   "pygments_lexer": "ipython3",
   "version": "3.8.13"
  },
  "vscode": {
   "interpreter": {
    "hash": "5ca155f627546645520d33fc1c0c7b9e0b61bcb631c4abd47be2f89dc4da8d2b"
   }
  }
 },
 "nbformat": 4,
 "nbformat_minor": 2
}
